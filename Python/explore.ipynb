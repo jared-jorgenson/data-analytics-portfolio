{
 "cells": [
  {
   "cell_type": "code",
   "execution_count": 79,
   "metadata": {},
   "outputs": [],
   "source": [
    "# Import libraries needed for analysis\n",
    "import pandas as pd\n",
    "import numpy as np\n",
    "import matplotlib.pyplot as plt\n",
    "\n",
    "from matplotlib.pyplot import figure"
   ]
  },
  {
   "cell_type": "code",
   "execution_count": 80,
   "metadata": {},
   "outputs": [
    {
     "name": "stdout",
     "output_type": "stream",
     "text": [
      "<class 'pandas.core.frame.DataFrame'>\n",
      "RangeIndex: 2936 entries, 0 to 2935\n",
      "Data columns (total 15 columns):\n",
      " #   Column                                    Non-Null Count  Dtype  \n",
      "---  ------                                    --------------  -----  \n",
      " 0   Type                                      2936 non-null   object \n",
      " 1   Date                                      2936 non-null   object \n",
      " 2   Part of a policing operation              0 non-null      float64\n",
      " 3   Policing operation                        0 non-null      float64\n",
      " 4   Latitude                                  2806 non-null   float64\n",
      " 5   Longitude                                 2806 non-null   float64\n",
      " 6   Gender                                    2785 non-null   object \n",
      " 7   Age range                                 2782 non-null   object \n",
      " 8   Self-defined ethnicity                    2877 non-null   object \n",
      " 9   Officer-defined ethnicity                 2718 non-null   object \n",
      " 10  Legislation                               2915 non-null   object \n",
      " 11  Object of search                          0 non-null      float64\n",
      " 12  Outcome                                   2936 non-null   object \n",
      " 13  Outcome linked to object of search        0 non-null      float64\n",
      " 14  Removal of more than just outer clothing  2813 non-null   object \n",
      "dtypes: float64(6), object(9)\n",
      "memory usage: 240.9+ KB\n"
     ]
    }
   ],
   "source": [
    "# Upload data set\n",
    "stop_and_search_df = pd.read_csv(\"2021-12-merseyside-stop-and-search.csv\")\n",
    "stop_and_search_df.info()"
   ]
  },
  {
   "cell_type": "code",
   "execution_count": 81,
   "metadata": {},
   "outputs": [
    {
     "data": {
      "text/html": [
       "<div>\n",
       "<style scoped>\n",
       "    .dataframe tbody tr th:only-of-type {\n",
       "        vertical-align: middle;\n",
       "    }\n",
       "\n",
       "    .dataframe tbody tr th {\n",
       "        vertical-align: top;\n",
       "    }\n",
       "\n",
       "    .dataframe thead th {\n",
       "        text-align: right;\n",
       "    }\n",
       "</style>\n",
       "<table border=\"1\" class=\"dataframe\">\n",
       "  <thead>\n",
       "    <tr style=\"text-align: right;\">\n",
       "      <th></th>\n",
       "      <th>Type</th>\n",
       "      <th>Date</th>\n",
       "      <th>Part of a policing operation</th>\n",
       "      <th>Policing operation</th>\n",
       "      <th>Latitude</th>\n",
       "      <th>Longitude</th>\n",
       "      <th>Gender</th>\n",
       "      <th>Age range</th>\n",
       "      <th>Self-defined ethnicity</th>\n",
       "      <th>Officer-defined ethnicity</th>\n",
       "      <th>Legislation</th>\n",
       "      <th>Object of search</th>\n",
       "      <th>Outcome</th>\n",
       "      <th>Outcome linked to object of search</th>\n",
       "      <th>Removal of more than just outer clothing</th>\n",
       "    </tr>\n",
       "  </thead>\n",
       "  <tbody>\n",
       "    <tr>\n",
       "      <th>0</th>\n",
       "      <td>Person and Vehicle search</td>\n",
       "      <td>2021-12-01T00:22:23+00:00</td>\n",
       "      <td>NaN</td>\n",
       "      <td>NaN</td>\n",
       "      <td>53.386456</td>\n",
       "      <td>-3.056396</td>\n",
       "      <td>Female</td>\n",
       "      <td>Oct-17</td>\n",
       "      <td>White - English/Welsh/Scottish/Northern Irish/...</td>\n",
       "      <td>White</td>\n",
       "      <td>NaN</td>\n",
       "      <td>NaN</td>\n",
       "      <td>A no further action disposal</td>\n",
       "      <td>NaN</td>\n",
       "      <td>False</td>\n",
       "    </tr>\n",
       "    <tr>\n",
       "      <th>1</th>\n",
       "      <td>Person and Vehicle search</td>\n",
       "      <td>2021-12-01T00:25:23+00:00</td>\n",
       "      <td>NaN</td>\n",
       "      <td>NaN</td>\n",
       "      <td>53.386456</td>\n",
       "      <td>-3.056396</td>\n",
       "      <td>Male</td>\n",
       "      <td>Oct-17</td>\n",
       "      <td>White - English/Welsh/Scottish/Northern Irish/...</td>\n",
       "      <td>White</td>\n",
       "      <td>NaN</td>\n",
       "      <td>NaN</td>\n",
       "      <td>A no further action disposal</td>\n",
       "      <td>NaN</td>\n",
       "      <td>False</td>\n",
       "    </tr>\n",
       "    <tr>\n",
       "      <th>2</th>\n",
       "      <td>Person and Vehicle search</td>\n",
       "      <td>2021-12-01T00:27:58+00:00</td>\n",
       "      <td>NaN</td>\n",
       "      <td>NaN</td>\n",
       "      <td>53.429291</td>\n",
       "      <td>-2.947949</td>\n",
       "      <td>Male</td>\n",
       "      <td>25-34</td>\n",
       "      <td>Mixed/Multiple ethnic groups - Any other Mixed...</td>\n",
       "      <td>Black</td>\n",
       "      <td>Misuse of Drugs Act 1971 (section 23)</td>\n",
       "      <td>NaN</td>\n",
       "      <td>Arrest</td>\n",
       "      <td>NaN</td>\n",
       "      <td>False</td>\n",
       "    </tr>\n",
       "    <tr>\n",
       "      <th>3</th>\n",
       "      <td>Person search</td>\n",
       "      <td>2021-12-01T00:31:09+00:00</td>\n",
       "      <td>NaN</td>\n",
       "      <td>NaN</td>\n",
       "      <td>53.450024</td>\n",
       "      <td>-2.711851</td>\n",
       "      <td>Male</td>\n",
       "      <td>18-24</td>\n",
       "      <td>White - English/Welsh/Scottish/Northern Irish/...</td>\n",
       "      <td>White</td>\n",
       "      <td>Misuse of Drugs Act 1971 (section 23)</td>\n",
       "      <td>NaN</td>\n",
       "      <td>Community resolution</td>\n",
       "      <td>NaN</td>\n",
       "      <td>False</td>\n",
       "    </tr>\n",
       "    <tr>\n",
       "      <th>4</th>\n",
       "      <td>Person search</td>\n",
       "      <td>2021-12-01T00:56:41+00:00</td>\n",
       "      <td>NaN</td>\n",
       "      <td>NaN</td>\n",
       "      <td>53.403024</td>\n",
       "      <td>-2.979358</td>\n",
       "      <td>Male</td>\n",
       "      <td>over 34</td>\n",
       "      <td>White - English/Welsh/Scottish/Northern Irish/...</td>\n",
       "      <td>White</td>\n",
       "      <td>Misuse of Drugs Act 1971 (section 23)</td>\n",
       "      <td>NaN</td>\n",
       "      <td>A no further action disposal</td>\n",
       "      <td>NaN</td>\n",
       "      <td>NaN</td>\n",
       "    </tr>\n",
       "  </tbody>\n",
       "</table>\n",
       "</div>"
      ],
      "text/plain": [
       "                        Type                       Date  \\\n",
       "0  Person and Vehicle search  2021-12-01T00:22:23+00:00   \n",
       "1  Person and Vehicle search  2021-12-01T00:25:23+00:00   \n",
       "2  Person and Vehicle search  2021-12-01T00:27:58+00:00   \n",
       "3              Person search  2021-12-01T00:31:09+00:00   \n",
       "4              Person search  2021-12-01T00:56:41+00:00   \n",
       "\n",
       "   Part of a policing operation  Policing operation   Latitude  Longitude  \\\n",
       "0                           NaN                 NaN  53.386456  -3.056396   \n",
       "1                           NaN                 NaN  53.386456  -3.056396   \n",
       "2                           NaN                 NaN  53.429291  -2.947949   \n",
       "3                           NaN                 NaN  53.450024  -2.711851   \n",
       "4                           NaN                 NaN  53.403024  -2.979358   \n",
       "\n",
       "   Gender Age range                             Self-defined ethnicity  \\\n",
       "0  Female    Oct-17  White - English/Welsh/Scottish/Northern Irish/...   \n",
       "1    Male    Oct-17  White - English/Welsh/Scottish/Northern Irish/...   \n",
       "2    Male     25-34  Mixed/Multiple ethnic groups - Any other Mixed...   \n",
       "3    Male     18-24  White - English/Welsh/Scottish/Northern Irish/...   \n",
       "4    Male   over 34  White - English/Welsh/Scottish/Northern Irish/...   \n",
       "\n",
       "  Officer-defined ethnicity                            Legislation  \\\n",
       "0                     White                                    NaN   \n",
       "1                     White                                    NaN   \n",
       "2                     Black  Misuse of Drugs Act 1971 (section 23)   \n",
       "3                     White  Misuse of Drugs Act 1971 (section 23)   \n",
       "4                     White  Misuse of Drugs Act 1971 (section 23)   \n",
       "\n",
       "   Object of search                       Outcome  \\\n",
       "0               NaN  A no further action disposal   \n",
       "1               NaN  A no further action disposal   \n",
       "2               NaN                        Arrest   \n",
       "3               NaN          Community resolution   \n",
       "4               NaN  A no further action disposal   \n",
       "\n",
       "   Outcome linked to object of search Removal of more than just outer clothing  \n",
       "0                                 NaN                                    False  \n",
       "1                                 NaN                                    False  \n",
       "2                                 NaN                                    False  \n",
       "3                                 NaN                                    False  \n",
       "4                                 NaN                                      NaN  "
      ]
     },
     "execution_count": 81,
     "metadata": {},
     "output_type": "execute_result"
    }
   ],
   "source": [
    "stop_and_search_df.head()"
   ]
  },
  {
   "cell_type": "code",
   "execution_count": 82,
   "metadata": {},
   "outputs": [
    {
     "data": {
      "text/html": [
       "<div>\n",
       "<style scoped>\n",
       "    .dataframe tbody tr th:only-of-type {\n",
       "        vertical-align: middle;\n",
       "    }\n",
       "\n",
       "    .dataframe tbody tr th {\n",
       "        vertical-align: top;\n",
       "    }\n",
       "\n",
       "    .dataframe thead th {\n",
       "        text-align: right;\n",
       "    }\n",
       "</style>\n",
       "<table border=\"1\" class=\"dataframe\">\n",
       "  <thead>\n",
       "    <tr style=\"text-align: right;\">\n",
       "      <th></th>\n",
       "      <th>Type</th>\n",
       "      <th>Date</th>\n",
       "      <th>Latitude</th>\n",
       "      <th>Longitude</th>\n",
       "      <th>Gender</th>\n",
       "      <th>Age range</th>\n",
       "      <th>Self-defined ethnicity</th>\n",
       "      <th>Officer-defined ethnicity</th>\n",
       "      <th>Legislation</th>\n",
       "      <th>Outcome</th>\n",
       "      <th>Removal of more than just outer clothing</th>\n",
       "    </tr>\n",
       "  </thead>\n",
       "  <tbody>\n",
       "    <tr>\n",
       "      <th>2</th>\n",
       "      <td>Person and Vehicle search</td>\n",
       "      <td>2021-12-01T00:27:58+00:00</td>\n",
       "      <td>53.429291</td>\n",
       "      <td>-2.947949</td>\n",
       "      <td>Male</td>\n",
       "      <td>25-34</td>\n",
       "      <td>Mixed/Multiple ethnic groups - Any other Mixed...</td>\n",
       "      <td>Black</td>\n",
       "      <td>Misuse of Drugs Act 1971 (section 23)</td>\n",
       "      <td>Arrest</td>\n",
       "      <td>False</td>\n",
       "    </tr>\n",
       "    <tr>\n",
       "      <th>3</th>\n",
       "      <td>Person search</td>\n",
       "      <td>2021-12-01T00:31:09+00:00</td>\n",
       "      <td>53.450024</td>\n",
       "      <td>-2.711851</td>\n",
       "      <td>Male</td>\n",
       "      <td>18-24</td>\n",
       "      <td>White - English/Welsh/Scottish/Northern Irish/...</td>\n",
       "      <td>White</td>\n",
       "      <td>Misuse of Drugs Act 1971 (section 23)</td>\n",
       "      <td>Community resolution</td>\n",
       "      <td>False</td>\n",
       "    </tr>\n",
       "    <tr>\n",
       "      <th>5</th>\n",
       "      <td>Person search</td>\n",
       "      <td>2021-12-01T01:05:24+00:00</td>\n",
       "      <td>53.459508</td>\n",
       "      <td>-2.745491</td>\n",
       "      <td>Male</td>\n",
       "      <td>over 34</td>\n",
       "      <td>White - English/Welsh/Scottish/Northern Irish/...</td>\n",
       "      <td>White</td>\n",
       "      <td>Misuse of Drugs Act 1971 (section 23)</td>\n",
       "      <td>A no further action disposal</td>\n",
       "      <td>False</td>\n",
       "    </tr>\n",
       "    <tr>\n",
       "      <th>6</th>\n",
       "      <td>Person search</td>\n",
       "      <td>2021-12-01T01:28:36+00:00</td>\n",
       "      <td>53.387767</td>\n",
       "      <td>-3.032957</td>\n",
       "      <td>Male</td>\n",
       "      <td>over 34</td>\n",
       "      <td>White - English/Welsh/Scottish/Northern Irish/...</td>\n",
       "      <td>White</td>\n",
       "      <td>Misuse of Drugs Act 1971 (section 23)</td>\n",
       "      <td>A no further action disposal</td>\n",
       "      <td>False</td>\n",
       "    </tr>\n",
       "    <tr>\n",
       "      <th>7</th>\n",
       "      <td>Person search</td>\n",
       "      <td>2021-12-01T01:38:58+00:00</td>\n",
       "      <td>53.445658</td>\n",
       "      <td>-2.991360</td>\n",
       "      <td>Male</td>\n",
       "      <td>18-24</td>\n",
       "      <td>White - English/Welsh/Scottish/Northern Irish/...</td>\n",
       "      <td>White</td>\n",
       "      <td>Misuse of Drugs Act 1971 (section 23)</td>\n",
       "      <td>A no further action disposal</td>\n",
       "      <td>False</td>\n",
       "    </tr>\n",
       "  </tbody>\n",
       "</table>\n",
       "</div>"
      ],
      "text/plain": [
       "                        Type                       Date   Latitude  Longitude  \\\n",
       "2  Person and Vehicle search  2021-12-01T00:27:58+00:00  53.429291  -2.947949   \n",
       "3              Person search  2021-12-01T00:31:09+00:00  53.450024  -2.711851   \n",
       "5              Person search  2021-12-01T01:05:24+00:00  53.459508  -2.745491   \n",
       "6              Person search  2021-12-01T01:28:36+00:00  53.387767  -3.032957   \n",
       "7              Person search  2021-12-01T01:38:58+00:00  53.445658  -2.991360   \n",
       "\n",
       "  Gender Age range                             Self-defined ethnicity  \\\n",
       "2   Male     25-34  Mixed/Multiple ethnic groups - Any other Mixed...   \n",
       "3   Male     18-24  White - English/Welsh/Scottish/Northern Irish/...   \n",
       "5   Male   over 34  White - English/Welsh/Scottish/Northern Irish/...   \n",
       "6   Male   over 34  White - English/Welsh/Scottish/Northern Irish/...   \n",
       "7   Male     18-24  White - English/Welsh/Scottish/Northern Irish/...   \n",
       "\n",
       "  Officer-defined ethnicity                            Legislation  \\\n",
       "2                     Black  Misuse of Drugs Act 1971 (section 23)   \n",
       "3                     White  Misuse of Drugs Act 1971 (section 23)   \n",
       "5                     White  Misuse of Drugs Act 1971 (section 23)   \n",
       "6                     White  Misuse of Drugs Act 1971 (section 23)   \n",
       "7                     White  Misuse of Drugs Act 1971 (section 23)   \n",
       "\n",
       "                        Outcome Removal of more than just outer clothing  \n",
       "2                        Arrest                                    False  \n",
       "3          Community resolution                                    False  \n",
       "5  A no further action disposal                                    False  \n",
       "6  A no further action disposal                                    False  \n",
       "7  A no further action disposal                                    False  "
      ]
     },
     "execution_count": 82,
     "metadata": {},
     "output_type": "execute_result"
    }
   ],
   "source": [
    "# Begin cleaning the data set\n",
    "\n",
    "# Delete columns that are not filled in\n",
    "stop_and_search_df.drop(stop_and_search_df.columns[[2,3,11,13]], axis=1, inplace=True)\n",
    "\n",
    "# Delete rows where data is missing\n",
    "stop_and_search_df.dropna(inplace=True)\n",
    "stop_and_search_df.drop_duplicates()\n",
    "stop_and_search_df.head()"
   ]
  },
  {
   "cell_type": "code",
   "execution_count": 83,
   "metadata": {},
   "outputs": [
    {
     "name": "stdout",
     "output_type": "stream",
     "text": [
      "['Person and Vehicle search' 'Person search']\n",
      "['Male' 'Female' 'Other']\n",
      "['25-34' '18-24' 'over 34' 'Oct-17']\n",
      "['Mixed/Multiple ethnic groups - Any other Mixed/Multiple ethnic background'\n",
      " 'White - English/Welsh/Scottish/Northern Irish/British'\n",
      " 'Other ethnic group - Not stated'\n",
      " 'Mixed/Multiple ethnic groups - White and Asian'\n",
      " 'Black/African/Caribbean/Black British - Caribbean' 'White - Irish'\n",
      " 'White - Any other White background'\n",
      " 'Asian/Asian British - Any other Asian background'\n",
      " 'Black/African/Caribbean/Black British - Any other Black/African/Caribbean background'\n",
      " 'Black/African/Caribbean/Black British - African'\n",
      " 'Mixed/Multiple ethnic groups - White and Black African'\n",
      " 'Mixed/Multiple ethnic groups - White and Black Caribbean'\n",
      " 'Other ethnic group - Any other ethnic group'\n",
      " 'Asian/Asian British - Bangladeshi' 'Asian/Asian British - Indian'\n",
      " 'Asian/Asian British - Pakistani']\n",
      "['Black' 'White' 'Asian' 'Other']\n",
      "['Misuse of Drugs Act 1971 (section 23)'\n",
      " 'Police and Criminal Evidence Act 1984 (section 1)'\n",
      " 'Firearms Act 1968 (section 47)'\n",
      " 'Poaching Prevention Act 1862 (section 2)']\n",
      "['Arrest' 'Community resolution' 'A no further action disposal'\n",
      " 'Summons / charged by post' 'Caution (simple or conditional)'\n",
      " 'Khat or Cannabis warning' 'Penalty Notice for Disorder']\n",
      "[False True]\n"
     ]
    }
   ],
   "source": [
    "# Check unique values of columns to check inputs are correct\n",
    "# Can not do this with the other three columns as all inputs could be unique\n",
    "stop_and_search_columns = [\"Type\", \"Gender\", \"Age range\", \n",
    "                           \"Self-defined ethnicity\",\n",
    "                           \"Officer-defined ethnicity\", \"Legislation\", \"Outcome\",\n",
    "                           \"Removal of more than just outer clothing\"]\n",
    "\n",
    "for unique_column in stop_and_search_columns:\n",
    "    print(stop_and_search_df[str(unique_column)].unique())"
   ]
  },
  {
   "cell_type": "code",
   "execution_count": 84,
   "metadata": {},
   "outputs": [
    {
     "name": "stdout",
     "output_type": "stream",
     "text": [
      "['25-34' '18-24' 'over 34']\n"
     ]
    }
   ],
   "source": [
    "# We see from the above output that in the Age range column some dates were\n",
    "# added. We will then remove these and check that they were removed.\n",
    "stop_and_search_df.rename(columns={\"Age range\": \"Age_range\"}, inplace=True)\n",
    "\n",
    "stop_and_search_df = stop_and_search_df[\n",
    "    stop_and_search_df.Age_range != \"Oct-17\"]\n",
    "\n",
    "print(stop_and_search_df[\"Age_range\"].unique())"
   ]
  },
  {
   "cell_type": "code",
   "execution_count": 85,
   "metadata": {},
   "outputs": [],
   "source": [
    "# Now that the data is done being cleaned we will save it in csv format\n",
    "stop_and_search_df.to_csv(\"2021-12-merseyside-stop-and-search_cleaned.csv\",\n",
    "                           index=False)"
   ]
  },
  {
   "cell_type": "code",
   "execution_count": 86,
   "metadata": {},
   "outputs": [
    {
     "data": {
      "text/plain": [
       "over 34    803\n",
       "18-24      702\n",
       "25-34      622\n",
       "Name: Age_range, dtype: int64"
      ]
     },
     "execution_count": 86,
     "metadata": {},
     "output_type": "execute_result"
    }
   ],
   "source": [
    "stop_and_search_df[\"Age_range\"].value_counts()"
   ]
  },
  {
   "cell_type": "code",
   "execution_count": 87,
   "metadata": {},
   "outputs": [
    {
     "data": {
      "text/plain": [
       "<function matplotlib.pyplot.show(*args, **kw)>"
      ]
     },
     "execution_count": 87,
     "metadata": {},
     "output_type": "execute_result"
    },
    {
     "data": {
      "image/png": "[encoded data removed]",
      "text/plain": [
       "<Figure size 432x288 with 1 Axes>"
      ]
     },
     "metadata": {},
     "output_type": "display_data"
    }
   ],
   "source": [
    "my_labels = \"over 34\", \"18-24\", \"25-34\"\n",
    "plt.pie(stop_and_search_df[\"Age_range\"].value_counts(),\n",
    " labels=my_labels,autopct=\"%1.1f%%\")\n",
    "plt.title(\"Age range of people stop and searched \\n in Merseyside in December 2021\")\n",
    "plt.axis(\"equal\")\n",
    "plt.show\n"
   ]
  },
  {
   "cell_type": "code",
   "execution_count": 88,
   "metadata": {},
   "outputs": [
    {
     "data": {
      "text/plain": [
       "Male      1931\n",
       "Female     196\n",
       "Name: Gender, dtype: int64"
      ]
     },
     "execution_count": 88,
     "metadata": {},
     "output_type": "execute_result"
    }
   ],
   "source": [
    "stop_and_search_df[\"Gender\"].value_counts()"
   ]
  },
  {
   "cell_type": "code",
   "execution_count": 89,
   "metadata": {},
   "outputs": [
    {
     "data": {
      "text/plain": [
       "<function matplotlib.pyplot.show(*args, **kw)>"
      ]
     },
     "execution_count": 89,
     "metadata": {},
     "output_type": "execute_result"
    },
    {
     "data": {
      "image/png": "[encoded data removed]",
      "text/plain": [
       "<Figure size 432x288 with 1 Axes>"
      ]
     },
     "metadata": {},
     "output_type": "display_data"
    }
   ],
   "source": [
    "my_labels = \"Male\", \"Female\"\n",
    "plt.pie(stop_and_search_df[\"Gender\"].value_counts(),\n",
    " labels=my_labels,autopct=\"%1.1f%%\")\n",
    "plt.title(\"Gender of people stop and searched \\n in Merseyside in December 2021\")\n",
    "plt.axis(\"equal\")\n",
    "plt.show"
   ]
  }
 ],
 "metadata": {
  "interpreter": {
   "hash": "478671f71425cac5c4019cb1ce79b99df64d30226fa95bb89d3c56ec8349d3dc"
  },
  "kernelspec": {
   "display_name": "Python 3.8.3 32-bit",
   "language": "python",
   "name": "python3"
  },
  "language_info": {
   "codemirror_mode": {
    "name": "ipython",
    "version": 3
   },
   "file_extension": ".py",
   "mimetype": "text/x-python",
   "name": "python",
   "nbconvert_exporter": "python",
   "pygments_lexer": "ipython3",
   "version": "3.8.3"
  },
  "orig_nbformat": 4
 },
 "nbformat": 4,
 "nbformat_minor": 2
}
